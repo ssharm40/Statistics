{
 "cells": [
  {
   "cell_type": "markdown",
   "id": "61473157",
   "metadata": {},
   "source": [
    "### Topics to covered:\n",
    "\n",
    "1) Bernouli distribution\n",
    "2) Binomial dist.\n",
    "3) PDF & CDF\n",
    "4) Power Law Distribution(Pareto Dist.)- Box Cox Transformation\n",
    "5) Chebysher's Inequality\n",
    "6) Q-Q Plot\n",
    "7) Chi Square\n",
    "8) Anova Test\n",
    "9) Poison Dist.\n",
    "10) Bassel correction\n",
    "\n",
    "\n",
    "\n",
    "\n"
   ]
  },
  {
   "cell_type": "markdown",
   "id": "4e7f101d",
   "metadata": {},
   "source": [
    "### 1) PDF and CDF\n",
    "\n",
    "**PDF**----- Probablity Density Function\n",
    "PDF is just a smotther version of histogram\n",
    "In Contains multiple kernal to create the smother version\n",
    "\n",
    "**CDF**----- Cumulative Density Function\n",
    "It will sum up the previous value\n",
    "It's an running total\n",
    "\n",
    "\n",
    "Score    :   100,   80,   70,   60\n",
    "CF       :   100,   180, 250,   310\n",
    "\n",
    "\n",
    "**PMF**----- Probablity Mass Function\n",
    "\n",
    "Qus ------ PMF vs PDF\n",
    "\n",
    "If values are continuou(int values)------- PDF\n",
    "If values are discrete (float values)----- PMF\n",
    "\n",
    "\n",
    "\n",
    "\n",
    "\n",
    "\n",
    "\n",
    "\n",
    "## Bernoulli Distribution : \n",
    "\n",
    "It's a kind of binary experiment(2 Sample space)\n",
    "Exp---- Tossing a coin   ===> Sample Space={H, T}====> So as it have only 2 sample space then it will be Bernoulli dist\n",
    "\n",
    "\n",
    "P(H=1) :  .5 ===> p\n",
    "P(T=0) :  .5 ===> 1-p\n",
    "\n",
    "\n",
    "PMF =    q=1-p     if k=0\n",
    "         p         if k=1\n",
    "         \n",
    "         \n",
    "\n",
    "\n",
    "## Binomial Distribution:\n",
    "When you have mul;tiple bernoulli dist then it comes under Binomial Dist.\n",
    "\n",
    "\n",
    "There are 4 condition :\n",
    "\n",
    "A Experimennt is  a Binomial Dist if : \n",
    "\n",
    "1) it's repeated for the fixed no of times\n",
    "2) The trails are inndepedent.\n",
    "3) Trails ahve 2 mutual exclusive outcome either sucess or failure.\n",
    "4) The probablity of success same for all trails.\n",
    "\n",
    "\n",
    "\n",
    "\n",
    "\n"
   ]
  },
  {
   "cell_type": "markdown",
   "id": "14b31304",
   "metadata": {},
   "source": [
    "## Chebysher's Inequality:\n",
    "\n",
    "Suppose if we say:\n",
    "x  approximately equal(=)  GD(with some mean and std)\n",
    "\n",
    "then it will follow the **Empirical Formula**\n",
    "\n",
    "Pr(mean - 1std <=  x  <=mean+ 1std)= 68%\n",
    "\n",
    "Pr(mean - 2std <=  x  <=mean+ 2std)= 95%\n",
    "\n",
    "Pr(mean - 3std <=  x  <=mean+ 3std )= 99.7\n",
    "\n",
    "\n",
    "\n",
    "\n",
    "\n",
    "But now if a Random varaible y is not belong to Gaussian Dist\n",
    "\n",
    "y != GD\n",
    "\n",
    "then this will come under **Chebysher's inequality dist**\n",
    "\n",
    "\n",
    "Formula :-\n",
    "Copy\n",
    "\n",
    "\n",
    "\n",
    "\n",
    "\n",
    "\n"
   ]
  },
  {
   "cell_type": "markdown",
   "id": "62b2c5e1",
   "metadata": {},
   "source": [
    "## Power Law\n",
    "\n",
    "It follow 80-20 rule\n",
    "\n",
    "80% win of RCB is depend on 20% player(abd & Virat)\n",
    "\n",
    "The data that follows this (80-20) rule is known as **Pareto distribution**\n",
    "\n",
    "\n",
    "\n",
    "Height of pareto isdefined by α(alpha)\n",
    "\n",
    "\n",
    "For transforming a Preto dist into Gaussian dist we need to apply **Box Cox Transformation**\n",
    "\n",
    "How to check given distribution is Gaussian distribution or not?\n",
    "It can be checked by Q-Q plot\n",
    "\n",
    "\n",
    "\n",
    "Copy"
   ]
  },
  {
   "cell_type": "code",
   "execution_count": null,
   "id": "cf6ed082",
   "metadata": {},
   "outputs": [],
   "source": [
    " "
   ]
  },
  {
   "cell_type": "code",
   "execution_count": null,
   "id": "a6975ca8",
   "metadata": {},
   "outputs": [],
   "source": [
    "# Let's start the code\n"
   ]
  },
  {
   "cell_type": "code",
   "execution_count": 13,
   "id": "620128b5",
   "metadata": {},
   "outputs": [
    {
     "data": {
      "image/png": "[encoded data removed]",
      "text/plain": [
       "<Figure size 432x288 with 1 Axes>"
      ]
     },
     "metadata": {
      "needs_background": "light"
     },
     "output_type": "display_data"
    }
   ],
   "source": [
    "# Why we use plot------- To check whether is it Gaussian Dist or not?\n",
    "\n",
    "\n",
    "import numpy as np\n",
    "import statsmodels.api as sm\n",
    "import pylab as py\n",
    "\n",
    "#Getting randm data point\n",
    "data_points= np.random.normal(0,1,100)\n",
    "\n",
    "sm.qqplot(data_points, line='45')\n",
    "\n",
    "py.show()\n",
    "\n",
    "\n",
    "# If mazority of data_points lies on this line then it will be an Gaussian plot\n"
   ]
  },
  {
   "cell_type": "code",
   "execution_count": null,
   "id": "fcc5c179",
   "metadata": {},
   "outputs": [],
   "source": []
  },
  {
   "cell_type": "code",
   "execution_count": 20,
   "id": "3e6a4a54",
   "metadata": {},
   "outputs": [
    {
     "name": "stderr",
     "output_type": "stream",
     "text": [
      "c:\\users\\sairam\\appdata\\local\\programs\\python\\python37\\lib\\site-packages\\seaborn\\distributions.py:2557: FutureWarning: `distplot` is a deprecated function and will be removed in a future version. Please adapt your code to use either `displot` (a figure-level function with similar flexibility) or `histplot` (an axes-level function for histograms).\n",
      "  warnings.warn(msg, FutureWarning)\n"
     ]
    },
    {
     "data": {
      "text/plain": [
       "<AxesSubplot:ylabel='Density'>"
      ]
     },
     "execution_count": 20,
     "metadata": {},
     "output_type": "execute_result"
    },
    {
     "data": {
      "image/png": "[encoded data removed]",
      "text/plain": [
       "<Figure size 432x288 with 1 Axes>"
      ]
     },
     "metadata": {
      "needs_background": "light"
     },
     "output_type": "display_data"
    }
   ],
   "source": [
    "# How to construct PDF?\n",
    "\n",
    "import seaborn as sns\n",
    "\n",
    "# For Histogram\n",
    "#sns.displot(data_points)\n",
    "\n",
    "#For PDF\n",
    "sns.distplot(data_points,kde=True)\n",
    "# So Here we can see the KDE(PDF) line\n",
    "\n",
    "\n",
    "sns.distplot(data_points)\n"
   ]
  },
  {
   "cell_type": "code",
   "execution_count": 30,
   "id": "4bdc94e0",
   "metadata": {},
   "outputs": [
    {
     "name": "stderr",
     "output_type": "stream",
     "text": [
      "c:\\users\\sairam\\appdata\\local\\programs\\python\\python37\\lib\\site-packages\\seaborn\\distributions.py:2557: FutureWarning: `distplot` is a deprecated function and will be removed in a future version. Please adapt your code to use either `displot` (a figure-level function with similar flexibility) or `histplot` (an axes-level function for histograms).\n",
      "  warnings.warn(msg, FutureWarning)\n"
     ]
    },
    {
     "data": {
      "text/plain": [
       "<AxesSubplot:ylabel='Density'>"
      ]
     },
     "execution_count": 30,
     "metadata": {},
     "output_type": "execute_result"
    },
    {
     "data": {
      "image/png": "[encoded data removed]",
      "text/plain": [
       "<Figure size 432x288 with 1 Axes>"
      ]
     },
     "metadata": {
      "needs_background": "light"
     },
     "output_type": "display_data"
    }
   ],
   "source": [
    "# Let's try with lognormal data\n",
    "\n",
    "gfg= np.random.lognormal(0,1,100)\n",
    "#gfg\n",
    "\n",
    "#Create Q-Q plot\n",
    "\n",
    "#sm.qqplot(gfg,line=\"45\")\n",
    "#So It's not an Gassian dist\n",
    "\n",
    "\n",
    "# Let's try it with Histogram\n",
    "\n",
    "sns.distplot(gfg, kde=True)\n",
    "\n",
    "\n"
   ]
  },
  {
   "cell_type": "code",
   "execution_count": null,
   "id": "c39ee6cb",
   "metadata": {},
   "outputs": [],
   "source": []
  },
  {
   "cell_type": "code",
   "execution_count": 31,
   "id": "53f17c38",
   "metadata": {},
   "outputs": [
    {
     "data": {
      "image/png": "[encoded data removed]",
      "text/plain": [
       "<Figure size 432x288 with 1 Axes>"
      ]
     },
     "execution_count": 31,
     "metadata": {},
     "output_type": "execute_result"
    },
    {
     "data": {
      "image/png": "[encoded data removed]",
      "text/plain": [
       "<Figure size 432x288 with 1 Axes>"
      ]
     },
     "metadata": {
      "needs_background": "light"
     },
     "output_type": "display_data"
    }
   ],
   "source": [
    "# So now how to convert this log dist into Gaussian dist\n",
    "\n",
    "# For this we apply ------ LOG Tranformation\n",
    "\n",
    "gfg=np.log(gfg)\n",
    "\n",
    "#Let's check q-q plot\n",
    "sm.qqplot(gfg, line=\"45\")"
   ]
  },
  {
   "cell_type": "code",
   "execution_count": null,
   "id": "e93db317",
   "metadata": {},
   "outputs": [],
   "source": []
  },
  {
   "cell_type": "code",
   "execution_count": 32,
   "id": "eff69b90",
   "metadata": {},
   "outputs": [],
   "source": [
    "# Now come to Box-Cox Transformation\n",
    "#Why we need? To convert preto dist into Gaussian Dist.\n",
    "\n",
    "import numpy as np\n",
    "from scipy import stats\n",
    "\n",
    "#Plotting modules\n",
    "import seaborn as sns\n",
    "import matplotlib.pyplot as plt\n"
   ]
  },
  {
   "cell_type": "code",
   "execution_count": 40,
   "id": "85de17a2",
   "metadata": {},
   "outputs": [
    {
     "name": "stderr",
     "output_type": "stream",
     "text": [
      "c:\\users\\sairam\\appdata\\local\\programs\\python\\python37\\lib\\site-packages\\seaborn\\distributions.py:2557: FutureWarning: `distplot` is a deprecated function and will be removed in a future version. Please adapt your code to use either `displot` (a figure-level function with similar flexibility) or `kdeplot` (an axes-level function for kernel density plots).\n",
      "  warnings.warn(msg, FutureWarning)\n",
      "c:\\users\\sairam\\appdata\\local\\programs\\python\\python37\\lib\\site-packages\\seaborn\\distributions.py:2557: FutureWarning: `distplot` is a deprecated function and will be removed in a future version. Please adapt your code to use either `displot` (a figure-level function with similar flexibility) or `kdeplot` (an axes-level function for kernel density plots).\n",
      "  warnings.warn(msg, FutureWarning)\n"
     ]
    },
    {
     "data": {
      "text/plain": [
       "<AxesSubplot:ylabel='Density'>"
      ]
     },
     "execution_count": 40,
     "metadata": {},
     "output_type": "execute_result"
    },
    {
     "data": {
      "image/png": "[encoded data removed]",
      "text/plain": [
       "<Figure size 432x288 with 2 Axes>"
      ]
     },
     "metadata": {
      "needs_background": "light"
     },
     "output_type": "display_data"
    }
   ],
   "source": [
    "# Generation non-normal data(exponential)\n",
    "\n",
    "original_data = np.random.exponential(size=1000)\n",
    "#original_data\n",
    "\n",
    "# Transform training data & sace labmda value\n",
    "fitted_data, fitted_lambda= stats.boxcox(original_data)\n",
    "\n",
    "\n",
    "#Creating axes to draw plots\n",
    "fig, ax= plt.subplots(1,2)\n",
    "\n",
    "sns.distplot(original_data, hist=False, kde=True, \n",
    "             kde_kws={'shade':True, 'linewidth':2}, label= \"Non-Normal\", color=\"green\", ax=ax[0])  \n",
    "\n",
    "sns.distplot(fitted_data, hist=False, kde=True, kde_kws={'shade':True, 'linewidth':2}, label= \"Non-Normal\", color=\"green\", ax=ax[1])  \n"
   ]
  },
  {
   "cell_type": "code",
   "execution_count": null,
   "id": "dc591329",
   "metadata": {},
   "outputs": [],
   "source": []
  },
  {
   "cell_type": "code",
   "execution_count": null,
   "id": "34754fa1",
   "metadata": {},
   "outputs": [],
   "source": []
  },
  {
   "cell_type": "code",
   "execution_count": null,
   "id": "936a08f1",
   "metadata": {},
   "outputs": [],
   "source": []
  },
  {
   "cell_type": "code",
   "execution_count": null,
   "id": "89bdad3e",
   "metadata": {},
   "outputs": [],
   "source": []
  },
  {
   "cell_type": "code",
   "execution_count": null,
   "id": "b9ab5051",
   "metadata": {},
   "outputs": [],
   "source": []
  },
  {
   "cell_type": "code",
   "execution_count": null,
   "id": "db7b8f62",
   "metadata": {},
   "outputs": [],
   "source": []
  },
  {
   "cell_type": "code",
   "execution_count": null,
   "id": "edd3a73f",
   "metadata": {},
   "outputs": [],
   "source": []
  },
  {
   "cell_type": "code",
   "execution_count": null,
   "id": "b97a1e8c",
   "metadata": {},
   "outputs": [],
   "source": []
  },
  {
   "cell_type": "code",
   "execution_count": null,
   "id": "a5436d22",
   "metadata": {},
   "outputs": [],
   "source": []
  },
  {
   "cell_type": "code",
   "execution_count": null,
   "id": "03f0fd32",
   "metadata": {},
   "outputs": [],
   "source": []
  },
  {
   "cell_type": "code",
   "execution_count": null,
   "id": "ea0e74eb",
   "metadata": {},
   "outputs": [],
   "source": []
  },
  {
   "cell_type": "code",
   "execution_count": null,
   "id": "c190552f",
   "metadata": {},
   "outputs": [],
   "source": []
  },
  {
   "cell_type": "code",
   "execution_count": null,
   "id": "598fa910",
   "metadata": {},
   "outputs": [],
   "source": []
  },
  {
   "cell_type": "code",
   "execution_count": null,
   "id": "2635aff3",
   "metadata": {},
   "outputs": [],
   "source": []
  },
  {
   "cell_type": "code",
   "execution_count": null,
   "id": "95565791",
   "metadata": {},
   "outputs": [],
   "source": []
  },
  {
   "cell_type": "code",
   "execution_count": null,
   "id": "32254eb5",
   "metadata": {},
   "outputs": [],
   "source": []
  },
  {
   "cell_type": "code",
   "execution_count": null,
   "id": "63855338",
   "metadata": {},
   "outputs": [],
   "source": []
  },
  {
   "cell_type": "code",
   "execution_count": null,
   "id": "0a1d6685",
   "metadata": {},
   "outputs": [],
   "source": []
  },
  {
   "cell_type": "code",
   "execution_count": null,
   "id": "21ab5b93",
   "metadata": {},
   "outputs": [],
   "source": []
  },
  {
   "cell_type": "code",
   "execution_count": null,
   "id": "6f518f0b",
   "metadata": {},
   "outputs": [],
   "source": []
  },
  {
   "cell_type": "code",
   "execution_count": null,
   "id": "14727145",
   "metadata": {},
   "outputs": [],
   "source": []
  }
 ],
 "metadata": {
  "kernelspec": {
   "display_name": "Python 3",
   "language": "python",
   "name": "python3"
  },
  "language_info": {
   "codemirror_mode": {
    "name": "ipython",
    "version": 3
   },
   "file_extension": ".py",
   "mimetype": "text/x-python",
   "name": "python",
   "nbconvert_exporter": "python",
   "pygments_lexer": "ipython3",
   "version": "3.7.3"
  }
 },
 "nbformat": 4,
 "nbformat_minor": 5
}
